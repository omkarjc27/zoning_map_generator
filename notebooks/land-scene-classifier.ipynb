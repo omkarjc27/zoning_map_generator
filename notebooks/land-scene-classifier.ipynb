{
 "cells": [
  {
   "cell_type": "code",
   "execution_count": 1,
   "id": "4efe6086",
   "metadata": {
    "_cell_guid": "b1076dfc-b9ad-4769-8c92-a6c4dae69d19",
    "_uuid": "8f2839f25d086af736a60e9eeb907d3b93b6e0e5",
    "execution": {
     "iopub.execute_input": "2021-07-24T12:57:07.117779Z",
     "iopub.status.busy": "2021-07-24T12:57:07.116286Z",
     "iopub.status.idle": "2021-07-24T12:57:11.564780Z",
     "shell.execute_reply": "2021-07-24T12:57:11.564129Z",
     "shell.execute_reply.started": "2021-07-24T12:53:01.703898Z"
    },
    "papermill": {
     "duration": 4.462852,
     "end_time": "2021-07-24T12:57:11.564937",
     "exception": false,
     "start_time": "2021-07-24T12:57:07.102085",
     "status": "completed"
    },
    "tags": []
   },
   "outputs": [],
   "source": [
    "import numpy as np\n",
    "import os\n",
    "import tensorflow as tf\n",
    "from tensorflow import keras\n",
    "import pathlib\n",
    "import pandas as pd\n",
    "import matplotlib.pyplot as plt"
   ]
  },
  {
   "cell_type": "code",
   "execution_count": 2,
   "id": "834d4ca3",
   "metadata": {
    "execution": {
     "iopub.execute_input": "2021-07-24T12:57:11.591040Z",
     "iopub.status.busy": "2021-07-24T12:57:11.590521Z",
     "iopub.status.idle": "2021-07-24T12:57:11.948912Z",
     "shell.execute_reply": "2021-07-24T12:57:11.949480Z",
     "shell.execute_reply.started": "2021-07-24T12:53:01.713438Z"
    },
    "papermill": {
     "duration": 0.374898,
     "end_time": "2021-07-24T12:57:11.949659",
     "exception": false,
     "start_time": "2021-07-24T12:57:11.574761",
     "status": "completed"
    },
    "tags": []
   },
   "outputs": [
    {
     "name": "stdout",
     "output_type": "stream",
     "text": [
      "Number Of Classes    :  21\n",
      "Number Of Images(Training,Validation):  9450 2100\n",
      "\n",
      "\n",
      "Distribution Per Class\n"
     ]
    },
    {
     "data": {
      "text/plain": [
       "<AxesSubplot:>"
      ]
     },
     "execution_count": 2,
     "metadata": {},
     "output_type": "execute_result"
    },
    {
     "data": {
      "image/png": "[encoded data removed]",
      "text/plain": [
       "<Figure size 432x288 with 1 Axes>"
      ]
     },
     "metadata": {
      "needs_background": "light"
     },
     "output_type": "display_data"
    }
   ],
   "source": [
    "train_ds = pd.read_csv(\"../input/landuse-scene-classification/train.csv\")\n",
    "train_ds['Filename']=train_ds['Filename'].apply(lambda x:\"train/\"+x)\n",
    "val_ds = pd.read_csv(\"../input/landuse-scene-classification/validation.csv\")\n",
    "val_ds['Filename']=val_ds['Filename'].apply(lambda x:\"validation/\"+x)\n",
    "ds = pd.concat([train_ds,val_ds]).sample(frac=1).reset_index(drop=True)\n",
    "\n",
    "n = int(len(ds))\n",
    "classes = ds.Label.nunique()\n",
    "print(\"Number Of Classes    : \",classes)\n",
    "print(\"Number Of Images(Training,Validation): \",n,len(val_ds))\n",
    "print(\"\\n\\nDistribution Per Class\")\n",
    "ds['Label'].value_counts().plot.bar()"
   ]
  },
  {
   "cell_type": "code",
   "execution_count": 3,
   "id": "830932d4",
   "metadata": {
    "execution": {
     "iopub.execute_input": "2021-07-24T12:57:11.978503Z",
     "iopub.status.busy": "2021-07-24T12:57:11.977616Z",
     "iopub.status.idle": "2021-07-24T12:57:11.989353Z",
     "shell.execute_reply": "2021-07-24T12:57:11.988805Z",
     "shell.execute_reply.started": "2021-07-24T12:53:01.986539Z"
    },
    "papermill": {
     "duration": 0.027839,
     "end_time": "2021-07-24T12:57:11.989499",
     "exception": false,
     "start_time": "2021-07-24T12:57:11.961660",
     "status": "completed"
    },
    "tags": []
   },
   "outputs": [
    {
     "data": {
      "text/html": [
       "<div>\n",
       "<style scoped>\n",
       "    .dataframe tbody tr th:only-of-type {\n",
       "        vertical-align: middle;\n",
       "    }\n",
       "\n",
       "    .dataframe tbody tr th {\n",
       "        vertical-align: top;\n",
       "    }\n",
       "\n",
       "    .dataframe thead th {\n",
       "        text-align: right;\n",
       "    }\n",
       "</style>\n",
       "<table border=\"1\" class=\"dataframe\">\n",
       "  <thead>\n",
       "    <tr style=\"text-align: right;\">\n",
       "      <th></th>\n",
       "      <th>Unnamed: 0</th>\n",
       "      <th>Filename</th>\n",
       "      <th>Label</th>\n",
       "      <th>ClassName</th>\n",
       "    </tr>\n",
       "  </thead>\n",
       "  <tbody>\n",
       "    <tr>\n",
       "      <th>0</th>\n",
       "      <td>1748</td>\n",
       "      <td>train/freeway/freeway_000062.png</td>\n",
       "      <td>8</td>\n",
       "      <td>freeway</td>\n",
       "    </tr>\n",
       "    <tr>\n",
       "      <th>1</th>\n",
       "      <td>2378</td>\n",
       "      <td>train/river/river_000464.png</td>\n",
       "      <td>15</td>\n",
       "      <td>river</td>\n",
       "    </tr>\n",
       "    <tr>\n",
       "      <th>2</th>\n",
       "      <td>3137</td>\n",
       "      <td>train/tenniscourt/tenniscourt_000063.png</td>\n",
       "      <td>19</td>\n",
       "      <td>tenniscourt</td>\n",
       "    </tr>\n",
       "    <tr>\n",
       "      <th>3</th>\n",
       "      <td>1513</td>\n",
       "      <td>train/freeway/freeway_000089.png</td>\n",
       "      <td>8</td>\n",
       "      <td>freeway</td>\n",
       "    </tr>\n",
       "    <tr>\n",
       "      <th>4</th>\n",
       "      <td>112</td>\n",
       "      <td>train/beach/beach_000432.png</td>\n",
       "      <td>3</td>\n",
       "      <td>beach</td>\n",
       "    </tr>\n",
       "  </tbody>\n",
       "</table>\n",
       "</div>"
      ],
      "text/plain": [
       "   Unnamed: 0                                  Filename  Label    ClassName\n",
       "0        1748          train/freeway/freeway_000062.png      8      freeway\n",
       "1        2378              train/river/river_000464.png     15        river\n",
       "2        3137  train/tenniscourt/tenniscourt_000063.png     19  tenniscourt\n",
       "3        1513          train/freeway/freeway_000089.png      8      freeway\n",
       "4         112              train/beach/beach_000432.png      3        beach"
      ]
     },
     "execution_count": 3,
     "metadata": {},
     "output_type": "execute_result"
    }
   ],
   "source": [
    "ds.head()"
   ]
  },
  {
   "cell_type": "code",
   "execution_count": 4,
   "id": "a85d8db5",
   "metadata": {
    "execution": {
     "iopub.execute_input": "2021-07-24T12:57:12.015701Z",
     "iopub.status.busy": "2021-07-24T12:57:12.014855Z",
     "iopub.status.idle": "2021-07-24T12:57:12.019014Z",
     "shell.execute_reply": "2021-07-24T12:57:12.018560Z",
     "shell.execute_reply.started": "2021-07-24T12:53:01.999555Z"
    },
    "papermill": {
     "duration": 0.019391,
     "end_time": "2021-07-24T12:57:12.019189",
     "exception": false,
     "start_time": "2021-07-24T12:57:11.999798",
     "status": "completed"
    },
    "tags": []
   },
   "outputs": [],
   "source": [
    "def load_img(path,fresh):\n",
    "    img = tf.io.decode_jpeg(tf.io.read_file(\"../input/landuse-scene-classification/images_train_test_val/\"+path),channels=3)\n",
    "    img = tf.cast(img, tf.float32)\n",
    "    img = tf.image.resize(img, [224,224])\n",
    "    img = keras.applications.vgg16.preprocess_input(img)\n",
    "    return img,fresh"
   ]
  },
  {
   "cell_type": "code",
   "execution_count": 5,
   "id": "a41add90",
   "metadata": {
    "execution": {
     "iopub.execute_input": "2021-07-24T12:57:13.734215Z",
     "iopub.status.busy": "2021-07-24T12:57:13.733618Z",
     "iopub.status.idle": "2021-07-24T12:57:13.752792Z",
     "shell.execute_reply": "2021-07-24T12:57:13.753567Z",
     "shell.execute_reply.started": "2021-07-24T12:53:02.009393Z"
    },
    "papermill": {
     "duration": 1.724679,
     "end_time": "2021-07-24T12:57:13.753729",
     "exception": false,
     "start_time": "2021-07-24T12:57:12.029050",
     "status": "completed"
    },
    "tags": []
   },
   "outputs": [],
   "source": [
    "dataset = tf.data.Dataset.from_tensor_slices((ds.Filename.values,ds.Label.values))"
   ]
  },
  {
   "cell_type": "code",
   "execution_count": 6,
   "id": "8c981ccd",
   "metadata": {
    "execution": {
     "iopub.execute_input": "2021-07-24T12:57:13.781051Z",
     "iopub.status.busy": "2021-07-24T12:57:13.779677Z",
     "iopub.status.idle": "2021-07-24T12:57:13.911825Z",
     "shell.execute_reply": "2021-07-24T12:57:13.912279Z",
     "shell.execute_reply.started": "2021-07-24T12:53:02.020508Z"
    },
    "papermill": {
     "duration": 0.148418,
     "end_time": "2021-07-24T12:57:13.912452",
     "exception": false,
     "start_time": "2021-07-24T12:57:13.764034",
     "status": "completed"
    },
    "tags": []
   },
   "outputs": [],
   "source": [
    "AUTOTUNE = tf.data.AUTOTUNE\n",
    "train_ds = dataset.take(int(0.8*len(ds)))\n",
    "val_ds = dataset.take(int(0.2*len(ds)))\n",
    "\n",
    "train = train_ds.map(load_img,num_parallel_calls=AUTOTUNE).batch(32).prefetch(buffer_size=AUTOTUNE)\n",
    "val   = val_ds.map(load_img,num_parallel_calls=AUTOTUNE).batch(32).prefetch(buffer_size=AUTOTUNE)"
   ]
  },
  {
   "cell_type": "code",
   "execution_count": 7,
   "id": "4e80e194",
   "metadata": {
    "execution": {
     "iopub.execute_input": "2021-07-24T12:57:13.943411Z",
     "iopub.status.busy": "2021-07-24T12:57:13.942835Z",
     "iopub.status.idle": "2021-07-24T12:57:15.091555Z",
     "shell.execute_reply": "2021-07-24T12:57:15.090855Z",
     "shell.execute_reply.started": "2021-07-24T12:53:02.059765Z"
    },
    "papermill": {
     "duration": 1.167493,
     "end_time": "2021-07-24T12:57:15.091739",
     "exception": false,
     "start_time": "2021-07-24T12:57:13.924246",
     "status": "completed"
    },
    "tags": []
   },
   "outputs": [
    {
     "name": "stdout",
     "output_type": "stream",
     "text": [
      "Downloading data from https://storage.googleapis.com/tensorflow/keras-applications/vgg16/vgg16_weights_tf_dim_ordering_tf_kernels_notop.h5\n",
      "58892288/58889256 [==============================] - 0s 0us/step\n"
     ]
    }
   ],
   "source": [
    "base_model = keras.applications.VGG16(weights=\"imagenet\",include_top=False)\n",
    "avg = keras.layers.GlobalAveragePooling2D()(base_model.output)\n",
    "output = keras.layers.Dense(classes, activation=\"softmax\")(avg)\n",
    "model = keras.Model(inputs=base_model.input, outputs=output)\n",
    "\n",
    "for layer in base_model.layers:\n",
    "    layer.trainable = False"
   ]
  },
  {
   "cell_type": "code",
   "execution_count": 8,
   "id": "86fe82e8",
   "metadata": {
    "execution": {
     "iopub.execute_input": "2021-07-24T12:57:15.133313Z",
     "iopub.status.busy": "2021-07-24T12:57:15.132301Z",
     "iopub.status.idle": "2021-07-24T13:01:10.680942Z",
     "shell.execute_reply": "2021-07-24T13:01:10.681419Z",
     "shell.execute_reply.started": "2021-07-24T12:53:02.346813Z"
    },
    "papermill": {
     "duration": 235.57533,
     "end_time": "2021-07-24T13:01:10.681659",
     "exception": false,
     "start_time": "2021-07-24T12:57:15.106329",
     "status": "completed"
    },
    "tags": []
   },
   "outputs": [
    {
     "name": "stdout",
     "output_type": "stream",
     "text": [
      "Epoch 1/5\n",
      "237/237 [==============================] - 69s 249ms/step - loss: 3.1339 - accuracy: 0.3903 - val_loss: 0.5157 - val_accuracy: 0.8349\n",
      "Epoch 2/5\n",
      "237/237 [==============================] - 42s 179ms/step - loss: 0.4498 - accuracy: 0.8553 - val_loss: 0.3007 - val_accuracy: 0.9021\n",
      "Epoch 3/5\n",
      "237/237 [==============================] - 43s 183ms/step - loss: 0.2682 - accuracy: 0.9162 - val_loss: 0.2124 - val_accuracy: 0.9333\n",
      "Epoch 4/5\n",
      "237/237 [==============================] - 40s 167ms/step - loss: 0.1881 - accuracy: 0.9419 - val_loss: 0.1584 - val_accuracy: 0.9556\n",
      "Epoch 5/5\n",
      "237/237 [==============================] - 41s 172ms/step - loss: 0.1411 - accuracy: 0.9634 - val_loss: 0.1214 - val_accuracy: 0.9677\n"
     ]
    }
   ],
   "source": [
    "model.compile(loss=\"sparse_categorical_crossentropy\",optimizer=\"adam\",metrics=[\"accuracy\"])\n",
    "history = model.fit(train, epochs=5, validation_data=val,verbose=1)"
   ]
  },
  {
   "cell_type": "code",
   "execution_count": 9,
   "id": "7794836c",
   "metadata": {
    "execution": {
     "iopub.execute_input": "2021-07-24T13:01:11.515279Z",
     "iopub.status.busy": "2021-07-24T13:01:11.512931Z",
     "iopub.status.idle": "2021-07-24T13:01:11.923836Z",
     "shell.execute_reply": "2021-07-24T13:01:11.924469Z"
    },
    "papermill": {
     "duration": 0.804895,
     "end_time": "2021-07-24T13:01:11.924639",
     "exception": false,
     "start_time": "2021-07-24T13:01:11.119744",
     "status": "completed"
    },
    "tags": []
   },
   "outputs": [
    {
     "data": {
      "image/png": "[encoded data removed]",
      "text/plain": [
       "<Figure size 576x576 with 2 Axes>"
      ]
     },
     "metadata": {
      "needs_background": "light"
     },
     "output_type": "display_data"
    }
   ],
   "source": [
    "acc = history.history['accuracy']\n",
    "val_acc = history.history['val_accuracy']\n",
    "loss = history.history['loss']\n",
    "val_loss = history.history['val_loss']\n",
    "epochs_range = range(len(history.history['val_loss']))\n",
    "plt.figure(figsize=(8, 8))\n",
    "plt.subplot(1, 2, 1)\n",
    "plt.plot(epochs_range, acc, label='Training Accuracy')\n",
    "plt.plot(epochs_range, val_acc, label='Validation Accuracy')\n",
    "plt.legend(loc='lower right')\n",
    "plt.title('Training and Validation Accuracy')\n",
    "\n",
    "plt.subplot(1, 2, 2)\n",
    "plt.plot(epochs_range, loss, label='Training Loss')\n",
    "plt.plot(epochs_range, val_loss, label='Validation Loss')\n",
    "plt.legend(loc='upper right')\n",
    "plt.title('Training and Validation Loss')\n",
    "plt.show()"
   ]
  },
  {
   "cell_type": "code",
   "execution_count": 10,
   "id": "7860a4a7",
   "metadata": {
    "execution": {
     "iopub.execute_input": "2021-07-24T13:01:12.559516Z",
     "iopub.status.busy": "2021-07-24T13:01:12.558999Z",
     "iopub.status.idle": "2021-07-24T13:01:24.460937Z",
     "shell.execute_reply": "2021-07-24T13:01:24.461616Z"
    },
    "papermill": {
     "duration": 12.221888,
     "end_time": "2021-07-24T13:01:24.461852",
     "exception": false,
     "start_time": "2021-07-24T13:01:12.239964",
     "status": "completed"
    },
    "tags": []
   },
   "outputs": [
    {
     "name": "stdout",
     "output_type": "stream",
     "text": [
      "Test loss: 0.226663738489151\n",
      "Test accuracy: 0.9285714030265808\n"
     ]
    }
   ],
   "source": [
    "test_ds = pd.read_csv(\"../input/landuse-scene-classification/test.csv\")\n",
    "test_ds['Filename']=test_ds['Filename'].apply(lambda x:\"test/\"+x)\n",
    "\n",
    "test_x = tf.data.Dataset.from_tensor_slices((test_ds.Filename.values,test_ds.Label.values))\n",
    "test_x = test_x.map(load_img).batch(32)\n",
    "\n",
    "score = model.evaluate(test_x, verbose = 0) \n",
    "\n",
    "print('Test loss:', score[0]) \n",
    "print('Test accuracy:', score[1])"
   ]
  },
  {
   "cell_type": "code",
   "execution_count": 11,
   "id": "990c07d4",
   "metadata": {
    "execution": {
     "iopub.execute_input": "2021-07-24T13:01:25.121077Z",
     "iopub.status.busy": "2021-07-24T13:01:25.120249Z",
     "iopub.status.idle": "2021-07-24T13:01:25.244612Z",
     "shell.execute_reply": "2021-07-24T13:01:25.244104Z"
    },
    "papermill": {
     "duration": 0.460129,
     "end_time": "2021-07-24T13:01:25.244772",
     "exception": false,
     "start_time": "2021-07-24T13:01:24.784643",
     "status": "completed"
    },
    "tags": []
   },
   "outputs": [],
   "source": [
    "model.save(\"land_classifier.h5\")"
   ]
  }
 ],
 "metadata": {
  "kernelspec": {
   "display_name": "Python 3",
   "language": "python",
   "name": "python3"
  },
  "language_info": {
   "codemirror_mode": {
    "name": "ipython",
    "version": 3
   },
   "file_extension": ".py",
   "mimetype": "text/x-python",
   "name": "python",
   "nbconvert_exporter": "python",
   "pygments_lexer": "ipython3",
   "version": "3.7.10"
  },
  "papermill": {
   "default_parameters": {},
   "duration": 268.756293,
   "end_time": "2021-07-24T13:01:28.738787",
   "environment_variables": {},
   "exception": null,
   "input_path": "__notebook__.ipynb",
   "output_path": "__notebook__.ipynb",
   "parameters": {},
   "start_time": "2021-07-24T12:56:59.982494",
   "version": "2.3.3"
  }
 },
 "nbformat": 4,
 "nbformat_minor": 5
}
