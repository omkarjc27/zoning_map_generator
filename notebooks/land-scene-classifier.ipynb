{
 "cells": [
  {
   "cell_type": "code",
   "execution_count": 1,
   "id": "7d85f11b",
   "metadata": {
    "_cell_guid": "b1076dfc-b9ad-4769-8c92-a6c4dae69d19",
    "_uuid": "8f2839f25d086af736a60e9eeb907d3b93b6e0e5",
    "execution": {
     "iopub.execute_input": "2022-03-31T14:12:28.862015Z",
     "iopub.status.busy": "2022-03-31T14:12:28.861214Z",
     "iopub.status.idle": "2022-03-31T14:12:33.597008Z",
     "shell.execute_reply": "2022-03-31T14:12:33.597447Z",
     "shell.execute_reply.started": "2022-03-31T14:10:14.315536Z"
    },
    "papermill": {
     "duration": 4.764616,
     "end_time": "2022-03-31T14:12:33.597733",
     "exception": false,
     "start_time": "2022-03-31T14:12:28.833117",
     "status": "completed"
    },
    "tags": []
   },
   "outputs": [],
   "source": [
    "import numpy as np\n",
    "import os\n",
    "import tensorflow as tf\n",
    "from tensorflow import keras\n",
    "import pathlib\n",
    "import pandas as pd\n",
    "import matplotlib.pyplot as plt"
   ]
  },
  {
   "cell_type": "code",
   "execution_count": 2,
   "id": "7b6867cb",
   "metadata": {
    "execution": {
     "iopub.execute_input": "2022-03-31T14:12:33.617518Z",
     "iopub.status.busy": "2022-03-31T14:12:33.616716Z",
     "iopub.status.idle": "2022-03-31T14:12:34.117965Z",
     "shell.execute_reply": "2022-03-31T14:12:34.118358Z",
     "shell.execute_reply.started": "2022-03-31T14:10:14.352488Z"
    },
    "papermill": {
     "duration": 0.512132,
     "end_time": "2022-03-31T14:12:34.118552",
     "exception": false,
     "start_time": "2022-03-31T14:12:33.606420",
     "status": "completed"
    },
    "tags": []
   },
   "outputs": [
    {
     "name": "stdout",
     "output_type": "stream",
     "text": [
      "Number Of Classes    :  12\n",
      "Number Of Images(Training,Testing):  1583 300\n",
      "\n",
      "\n",
      "Distribution Per Class\n"
     ]
    },
    {
     "data": {
      "text/plain": [
       "<AxesSubplot:>"
      ]
     },
     "execution_count": 2,
     "metadata": {},
     "output_type": "execute_result"
    },
    {
     "data": {
      "image/png": "[encoded data removed]",
      "text/plain": [
       "<Figure size 432x288 with 1 Axes>"
      ]
     },
     "metadata": {
      "needs_background": "light"
     },
     "output_type": "display_data"
    }
   ],
   "source": [
    "#train_ds = pd.read_csv(\"../input/landuse-scene-classification/train.csv\")\n",
    "#train_ds['Filename']=train_ds['Filename'].apply(lambda x:\"train/\"+x)\n",
    "#val_ds = pd.read_csv(\"../input/landuse-scene-classification/validation.csv\")\n",
    "#val_ds['Filename']=val_ds['Filename'].apply(lambda x:\"validation/\"+x)\n",
    "#ds = pd.concat([train_ds,val_ds]).sample(frac=1).reset_index(drop=True)\n",
    "\n",
    "data_dir = pathlib.Path(\"../input/landusedataset/images\")\n",
    "paths = list(data_dir.glob('*/*.jpg'))\n",
    "def load_paths(path):\n",
    "    path = path.absolute().as_posix()\n",
    "    path = path.split('/')\n",
    "    return path[-2]+\"/\"+path[-1],path[-2]\n",
    "ds = pd.DataFrame(map(load_paths,paths),columns =['image','label']).sample(frac=1).reset_index(drop=True)\n",
    "ds['Class'] = pd.factorize(ds['label'])[0]\n",
    "ds = ds.sample(frac=1).reset_index(drop=True)\n",
    "\n",
    "test_ds = ds.iloc[:300,:]\n",
    "ds = ds.iloc[300:,:]\n",
    "\n",
    "n = int(len(ds))\n",
    "classes = ds.label.nunique()\n",
    "print(\"Number Of Classes    : \",classes)\n",
    "print(\"Number Of Images(Training,Testing): \",n,int(len(test_ds)))\n",
    "print(\"\\n\\nDistribution Per Class\")\n",
    "ds['label'].value_counts().plot.bar()"
   ]
  },
  {
   "cell_type": "code",
   "execution_count": 3,
   "id": "3b84968b",
   "metadata": {
    "execution": {
     "iopub.execute_input": "2022-03-31T14:12:34.142851Z",
     "iopub.status.busy": "2022-03-31T14:12:34.142023Z",
     "iopub.status.idle": "2022-03-31T14:12:34.154225Z",
     "shell.execute_reply": "2022-03-31T14:12:34.153811Z",
     "shell.execute_reply.started": "2022-03-31T14:10:14.617382Z"
    },
    "papermill": {
     "duration": 0.025611,
     "end_time": "2022-03-31T14:12:34.154337",
     "exception": false,
     "start_time": "2022-03-31T14:12:34.128726",
     "status": "completed"
    },
    "tags": []
   },
   "outputs": [
    {
     "data": {
      "text/html": [
       "<div>\n",
       "<style scoped>\n",
       "    .dataframe tbody tr th:only-of-type {\n",
       "        vertical-align: middle;\n",
       "    }\n",
       "\n",
       "    .dataframe tbody tr th {\n",
       "        vertical-align: top;\n",
       "    }\n",
       "\n",
       "    .dataframe thead th {\n",
       "        text-align: right;\n",
       "    }\n",
       "</style>\n",
       "<table border=\"1\" class=\"dataframe\">\n",
       "  <thead>\n",
       "    <tr style=\"text-align: right;\">\n",
       "      <th></th>\n",
       "      <th>image</th>\n",
       "      <th>label</th>\n",
       "      <th>Class</th>\n",
       "    </tr>\n",
       "  </thead>\n",
       "  <tbody>\n",
       "    <tr>\n",
       "      <th>300</th>\n",
       "      <td>farmland/1233012122022132133.jpg</td>\n",
       "      <td>farmland</td>\n",
       "      <td>4</td>\n",
       "    </tr>\n",
       "    <tr>\n",
       "      <th>301</th>\n",
       "      <td>residential/1233003111221010133.jpg</td>\n",
       "      <td>residential</td>\n",
       "      <td>1</td>\n",
       "    </tr>\n",
       "    <tr>\n",
       "      <th>302</th>\n",
       "      <td>green/1233003113001223033.jpg</td>\n",
       "      <td>green</td>\n",
       "      <td>11</td>\n",
       "    </tr>\n",
       "    <tr>\n",
       "      <th>303</th>\n",
       "      <td>railway/1233003113001231120.jpg</td>\n",
       "      <td>railway</td>\n",
       "      <td>5</td>\n",
       "    </tr>\n",
       "    <tr>\n",
       "      <th>304</th>\n",
       "      <td>residential/1233003111303030322.jpg</td>\n",
       "      <td>residential</td>\n",
       "      <td>1</td>\n",
       "    </tr>\n",
       "  </tbody>\n",
       "</table>\n",
       "</div>"
      ],
      "text/plain": [
       "                                   image        label  Class\n",
       "300     farmland/1233012122022132133.jpg     farmland      4\n",
       "301  residential/1233003111221010133.jpg  residential      1\n",
       "302        green/1233003113001223033.jpg        green     11\n",
       "303      railway/1233003113001231120.jpg      railway      5\n",
       "304  residential/1233003111303030322.jpg  residential      1"
      ]
     },
     "execution_count": 3,
     "metadata": {},
     "output_type": "execute_result"
    }
   ],
   "source": [
    "ds.head()"
   ]
  },
  {
   "cell_type": "code",
   "execution_count": 4,
   "id": "8c0c393c",
   "metadata": {
    "execution": {
     "iopub.execute_input": "2022-03-31T14:12:34.180363Z",
     "iopub.status.busy": "2022-03-31T14:12:34.179625Z",
     "iopub.status.idle": "2022-03-31T14:12:34.182451Z",
     "shell.execute_reply": "2022-03-31T14:12:34.181997Z",
     "shell.execute_reply.started": "2022-03-31T14:10:14.631245Z"
    },
    "papermill": {
     "duration": 0.01811,
     "end_time": "2022-03-31T14:12:34.182575",
     "exception": false,
     "start_time": "2022-03-31T14:12:34.164465",
     "status": "completed"
    },
    "tags": []
   },
   "outputs": [],
   "source": [
    "def load_img(path,label):\n",
    "    img = tf.io.decode_jpeg(tf.io.read_file(\"../input/landusedataset/images/\"+path),channels=3)\n",
    "    img = tf.cast(img, tf.float32)\n",
    "    img = tf.image.resize(img, [224,224])\n",
    "    img = keras.applications.vgg16.preprocess_input(img)\n",
    "    return img,label"
   ]
  },
  {
   "cell_type": "code",
   "execution_count": 5,
   "id": "a1b0a438",
   "metadata": {
    "execution": {
     "iopub.execute_input": "2022-03-31T14:12:34.406926Z",
     "iopub.status.busy": "2022-03-31T14:12:34.405848Z",
     "iopub.status.idle": "2022-03-31T14:12:35.927236Z",
     "shell.execute_reply": "2022-03-31T14:12:35.926763Z",
     "shell.execute_reply.started": "2022-03-31T14:10:14.641099Z"
    },
    "papermill": {
     "duration": 1.734622,
     "end_time": "2022-03-31T14:12:35.927375",
     "exception": false,
     "start_time": "2022-03-31T14:12:34.192753",
     "status": "completed"
    },
    "tags": []
   },
   "outputs": [],
   "source": [
    "dataset = tf.data.Dataset.from_tensor_slices((ds.image.values,ds.Class.values))"
   ]
  },
  {
   "cell_type": "code",
   "execution_count": 6,
   "id": "5eef34a0",
   "metadata": {
    "execution": {
     "iopub.execute_input": "2022-03-31T14:12:35.954130Z",
     "iopub.status.busy": "2022-03-31T14:12:35.953346Z",
     "iopub.status.idle": "2022-03-31T14:12:36.067075Z",
     "shell.execute_reply": "2022-03-31T14:12:36.066618Z",
     "shell.execute_reply.started": "2022-03-31T14:10:14.652745Z"
    },
    "papermill": {
     "duration": 0.129492,
     "end_time": "2022-03-31T14:12:36.067189",
     "exception": false,
     "start_time": "2022-03-31T14:12:35.937697",
     "status": "completed"
    },
    "tags": []
   },
   "outputs": [],
   "source": [
    "AUTOTUNE = tf.data.AUTOTUNE\n",
    "train_ds = dataset.take(int(0.8*len(ds)))\n",
    "val_ds = dataset.take(int(0.2*len(ds)))\n",
    "\n",
    "train = train_ds.map(load_img,num_parallel_calls=AUTOTUNE).batch(32).prefetch(buffer_size=AUTOTUNE)\n",
    "val   = val_ds.map(load_img,num_parallel_calls=AUTOTUNE).batch(32).prefetch(buffer_size=AUTOTUNE)"
   ]
  },
  {
   "cell_type": "code",
   "execution_count": 7,
   "id": "61483d91",
   "metadata": {
    "execution": {
     "iopub.execute_input": "2022-03-31T14:12:36.095110Z",
     "iopub.status.busy": "2022-03-31T14:12:36.094455Z",
     "iopub.status.idle": "2022-03-31T14:12:37.103824Z",
     "shell.execute_reply": "2022-03-31T14:12:37.102886Z",
     "shell.execute_reply.started": "2022-03-31T14:10:14.690596Z"
    },
    "papermill": {
     "duration": 1.026333,
     "end_time": "2022-03-31T14:12:37.103973",
     "exception": false,
     "start_time": "2022-03-31T14:12:36.077640",
     "status": "completed"
    },
    "tags": []
   },
   "outputs": [
    {
     "name": "stdout",
     "output_type": "stream",
     "text": [
      "Downloading data from https://storage.googleapis.com/tensorflow/keras-applications/vgg16/vgg16_weights_tf_dim_ordering_tf_kernels_notop.h5\n",
      "58892288/58889256 [==============================] - 0s 0us/step\n"
     ]
    }
   ],
   "source": [
    "base_model = keras.applications.VGG16(weights=\"imagenet\",include_top=False)\n",
    "avg = keras.layers.GlobalAveragePooling2D()(base_model.output)\n",
    "output = keras.layers.Dense(classes, activation=\"softmax\")(avg)\n",
    "model = keras.Model(inputs=base_model.input, outputs=output)\n",
    "\n",
    "for layer in base_model.layers:\n",
    "    layer.trainable = False"
   ]
  },
  {
   "cell_type": "code",
   "execution_count": 8,
   "id": "9a0368f5",
   "metadata": {
    "execution": {
     "iopub.execute_input": "2022-03-31T14:12:37.138684Z",
     "iopub.status.busy": "2022-03-31T14:12:37.137861Z",
     "iopub.status.idle": "2022-03-31T14:14:00.254702Z",
     "shell.execute_reply": "2022-03-31T14:14:00.255385Z",
     "shell.execute_reply.started": "2022-03-31T14:10:14.984716Z"
    },
    "papermill": {
     "duration": 83.139696,
     "end_time": "2022-03-31T14:14:00.255607",
     "exception": false,
     "start_time": "2022-03-31T14:12:37.115911",
     "status": "completed"
    },
    "tags": []
   },
   "outputs": [
    {
     "name": "stdout",
     "output_type": "stream",
     "text": [
      "Epoch 1/15\n",
      "40/40 [==============================] - 20s 262ms/step - loss: 4.1134 - accuracy: 0.2291 - val_loss: 1.1347 - val_accuracy: 0.6456\n",
      "Epoch 2/15\n",
      "40/40 [==============================] - 5s 123ms/step - loss: 0.9731 - accuracy: 0.7183 - val_loss: 0.6129 - val_accuracy: 0.8038\n",
      "Epoch 3/15\n",
      "40/40 [==============================] - 5s 116ms/step - loss: 0.5607 - accuracy: 0.8273 - val_loss: 0.4329 - val_accuracy: 0.8639\n",
      "Epoch 4/15\n",
      "40/40 [==============================] - 4s 108ms/step - loss: 0.3990 - accuracy: 0.8759 - val_loss: 0.3387 - val_accuracy: 0.8956\n",
      "Epoch 5/15\n",
      "40/40 [==============================] - 4s 105ms/step - loss: 0.3061 - accuracy: 0.9037 - val_loss: 0.2768 - val_accuracy: 0.9177\n",
      "Epoch 6/15\n",
      "40/40 [==============================] - 5s 111ms/step - loss: 0.2444 - accuracy: 0.9332 - val_loss: 0.2336 - val_accuracy: 0.9241\n",
      "Epoch 7/15\n",
      "40/40 [==============================] - 4s 105ms/step - loss: 0.2010 - accuracy: 0.9428 - val_loss: 0.2004 - val_accuracy: 0.9430\n",
      "Epoch 8/15\n",
      "40/40 [==============================] - 4s 110ms/step - loss: 0.1683 - accuracy: 0.9545 - val_loss: 0.1732 - val_accuracy: 0.9494\n",
      "Epoch 9/15\n",
      "40/40 [==============================] - 4s 106ms/step - loss: 0.1424 - accuracy: 0.9645 - val_loss: 0.1505 - val_accuracy: 0.9589\n",
      "Epoch 10/15\n",
      "40/40 [==============================] - 5s 126ms/step - loss: 0.1216 - accuracy: 0.9704 - val_loss: 0.1321 - val_accuracy: 0.9652\n",
      "Epoch 11/15\n",
      "40/40 [==============================] - 4s 106ms/step - loss: 0.1050 - accuracy: 0.9805 - val_loss: 0.1178 - val_accuracy: 0.9684\n",
      "Epoch 12/15\n",
      "40/40 [==============================] - 4s 106ms/step - loss: 0.0919 - accuracy: 0.9884 - val_loss: 0.1069 - val_accuracy: 0.9747\n",
      "Epoch 13/15\n",
      "40/40 [==============================] - 5s 113ms/step - loss: 0.0816 - accuracy: 0.9908 - val_loss: 0.0986 - val_accuracy: 0.9747\n",
      "Epoch 14/15\n",
      "40/40 [==============================] - 4s 105ms/step - loss: 0.0734 - accuracy: 0.9933 - val_loss: 0.0917 - val_accuracy: 0.9778\n",
      "Epoch 15/15\n",
      "40/40 [==============================] - 5s 112ms/step - loss: 0.0668 - accuracy: 0.9940 - val_loss: 0.0857 - val_accuracy: 0.9810\n"
     ]
    }
   ],
   "source": [
    "model.compile(loss=\"sparse_categorical_crossentropy\",optimizer=\"adam\",metrics=[\"accuracy\"])\n",
    "history = model.fit(train, epochs=15, validation_data=val,verbose=1)"
   ]
  },
  {
   "cell_type": "code",
   "execution_count": 9,
   "id": "97f9c353",
   "metadata": {
    "execution": {
     "iopub.execute_input": "2022-03-31T14:14:00.636531Z",
     "iopub.status.busy": "2022-03-31T14:14:00.635624Z",
     "iopub.status.idle": "2022-03-31T14:14:00.850994Z",
     "shell.execute_reply": "2022-03-31T14:14:00.851366Z",
     "shell.execute_reply.started": "2022-03-31T14:11:23.035298Z"
    },
    "papermill": {
     "duration": 0.395664,
     "end_time": "2022-03-31T14:14:00.851545",
     "exception": false,
     "start_time": "2022-03-31T14:14:00.455881",
     "status": "completed"
    },
    "tags": []
   },
   "outputs": [
    {
     "data": {
      "image/png": "[encoded data removed]",
      "text/plain": [
       "<Figure size 576x576 with 2 Axes>"
      ]
     },
     "metadata": {
      "needs_background": "light"
     },
     "output_type": "display_data"
    }
   ],
   "source": [
    "acc = history.history['accuracy']\n",
    "val_acc = history.history['val_accuracy']\n",
    "loss = history.history['loss']\n",
    "val_loss = history.history['val_loss']\n",
    "epochs_range = range(len(history.history['val_loss']))\n",
    "plt.figure(figsize=(8, 8))\n",
    "plt.subplot(1, 2, 1)\n",
    "plt.plot(epochs_range, acc, label='Training Accuracy')\n",
    "plt.plot(epochs_range, val_acc, label='Validation Accuracy')\n",
    "plt.legend(loc='lower right')\n",
    "plt.title('Training and Validation Accuracy')\n",
    "\n",
    "plt.subplot(1, 2, 2)\n",
    "plt.plot(epochs_range, loss, label='Training Loss')\n",
    "plt.plot(epochs_range, val_loss, label='Validation Loss')\n",
    "plt.legend(loc='upper right')\n",
    "plt.title('Training and Validation Loss')\n",
    "plt.show()"
   ]
  },
  {
   "cell_type": "code",
   "execution_count": 10,
   "id": "37a9dba8",
   "metadata": {
    "execution": {
     "iopub.execute_input": "2022-03-31T14:14:01.188658Z",
     "iopub.status.busy": "2022-03-31T14:14:01.188041Z",
     "iopub.status.idle": "2022-03-31T14:14:04.282744Z",
     "shell.execute_reply": "2022-03-31T14:14:04.281863Z",
     "shell.execute_reply.started": "2022-03-31T14:11:23.268639Z"
    },
    "papermill": {
     "duration": 3.266059,
     "end_time": "2022-03-31T14:14:04.282913",
     "exception": false,
     "start_time": "2022-03-31T14:14:01.016854",
     "status": "completed"
    },
    "tags": []
   },
   "outputs": [
    {
     "name": "stdout",
     "output_type": "stream",
     "text": [
      "Test loss: 0.43457406759262085\n",
      "Test accuracy: 0.8833333253860474\n"
     ]
    }
   ],
   "source": [
    "test_x = tf.data.Dataset.from_tensor_slices((test_ds.image.values,test_ds.Class.values))\n",
    "test_x = test_x.map(load_img).batch(32)\n",
    "\n",
    "score = model.evaluate(test_x, verbose = 0) \n",
    "\n",
    "print('Test loss:', score[0]) \n",
    "print('Test accuracy:', score[1])"
   ]
  },
  {
   "cell_type": "code",
   "execution_count": 11,
   "id": "e398c159",
   "metadata": {
    "execution": {
     "iopub.execute_input": "2022-03-31T14:14:04.632844Z",
     "iopub.status.busy": "2022-03-31T14:14:04.631986Z",
     "iopub.status.idle": "2022-03-31T14:14:04.762599Z",
     "shell.execute_reply": "2022-03-31T14:14:04.762068Z",
     "shell.execute_reply.started": "2022-03-31T14:11:24.493547Z"
    },
    "papermill": {
     "duration": 0.308987,
     "end_time": "2022-03-31T14:14:04.762728",
     "exception": false,
     "start_time": "2022-03-31T14:14:04.453741",
     "status": "completed"
    },
    "tags": []
   },
   "outputs": [],
   "source": [
    "model.save(\"land_classifier.h5\")"
   ]
  }
 ],
 "metadata": {
  "kernelspec": {
   "display_name": "Python 3",
   "language": "python",
   "name": "python3"
  },
  "language_info": {
   "codemirror_mode": {
    "name": "ipython",
    "version": 3
   },
   "file_extension": ".py",
   "mimetype": "text/x-python",
   "name": "python",
   "nbconvert_exporter": "python",
   "pygments_lexer": "ipython3",
   "version": "3.7.10"
  },
  "papermill": {
   "default_parameters": {},
   "duration": 105.671025,
   "end_time": "2022-03-31T14:14:07.847334",
   "environment_variables": {},
   "exception": null,
   "input_path": "__notebook__.ipynb",
   "output_path": "__notebook__.ipynb",
   "parameters": {},
   "start_time": "2022-03-31T14:12:22.176309",
   "version": "2.3.3"
  }
 },
 "nbformat": 4,
 "nbformat_minor": 5
}
