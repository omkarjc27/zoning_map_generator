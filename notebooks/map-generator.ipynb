{
 "cells": [
  {
   "cell_type": "code",
   "execution_count": 1,
   "id": "f1d878e2",
   "metadata": {
    "_cell_guid": "b1076dfc-b9ad-4769-8c92-a6c4dae69d19",
    "_uuid": "8f2839f25d086af736a60e9eeb907d3b93b6e0e5",
    "execution": {
     "iopub.execute_input": "2021-07-25T07:57:59.904537Z",
     "iopub.status.busy": "2021-07-25T07:57:59.903013Z",
     "iopub.status.idle": "2021-07-25T07:58:04.110660Z",
     "shell.execute_reply": "2021-07-25T07:58:04.110074Z",
     "shell.execute_reply.started": "2021-07-25T07:42:49.164710Z"
    },
    "papermill": {
     "duration": 4.21784,
     "end_time": "2021-07-25T07:58:04.110821",
     "exception": false,
     "start_time": "2021-07-25T07:57:59.892981",
     "status": "completed"
    },
    "tags": []
   },
   "outputs": [],
   "source": [
    "import tensorflow as tf\n",
    "from tensorflow import keras \n",
    "import pandas as pd\n",
    "import urllib.request\n",
    "import itertools\n",
    "import os\n",
    "import numpy as np\n",
    "import shutil"
   ]
  },
  {
   "cell_type": "code",
   "execution_count": 2,
   "id": "04abef3c",
   "metadata": {
    "execution": {
     "iopub.execute_input": "2021-07-25T07:58:04.126896Z",
     "iopub.status.busy": "2021-07-25T07:58:04.126342Z",
     "iopub.status.idle": "2021-07-25T07:58:08.152043Z",
     "shell.execute_reply": "2021-07-25T07:58:08.150965Z",
     "shell.execute_reply.started": "2021-07-25T07:42:49.174323Z"
    },
    "papermill": {
     "duration": 4.035769,
     "end_time": "2021-07-25T07:58:08.152171",
     "exception": false,
     "start_time": "2021-07-25T07:58:04.116402",
     "status": "completed"
    },
    "tags": []
   },
   "outputs": [],
   "source": [
    "model = tf.keras.models.load_model('../input/land-scene-classifier/land_classifier.h5')\n",
    "filenames = [\"\".join(p) for p in itertools.product(['0','1','2','3'], repeat=5)]\n",
    "df = pd.DataFrame(filenames,columns=['path'])"
   ]
  },
  {
   "cell_type": "code",
   "execution_count": 3,
   "id": "3bf27d56",
   "metadata": {
    "execution": {
     "iopub.execute_input": "2021-07-25T07:58:08.168880Z",
     "iopub.status.busy": "2021-07-25T07:58:08.168276Z",
     "iopub.status.idle": "2021-07-25T08:01:31.291061Z",
     "shell.execute_reply": "2021-07-25T08:01:31.291588Z",
     "shell.execute_reply.started": "2021-07-25T07:42:51.252533Z"
    },
    "papermill": {
     "duration": 203.134256,
     "end_time": "2021-07-25T08:01:31.291774",
     "exception": false,
     "start_time": "2021-07-25T07:58:08.157518",
     "status": "completed"
    },
    "tags": []
   },
   "outputs": [
    {
     "name": "stdout",
     "output_type": "stream",
     "text": [
      "00000\n",
      "01210\n",
      "03020\n",
      "10230\n",
      "12100\n",
      "13310\n",
      "21120\n",
      "22330\n",
      "30200\n",
      "32010\n",
      "33220\n",
      "Done.\n"
     ]
    }
   ],
   "source": [
    "shutil.rmtree(\"./images\",ignore_errors=True)\n",
    "os.makedirs('./images')\n",
    "for i in range(len(filenames)):\n",
    "    quadkey = filenames[i]\n",
    "    if i%100==0:print(quadkey) \n",
    "    urllib.request.urlretrieve(\"http://ecn.t0.tiles.virtualearth.net/tiles/a02301023020111{}.jpeg?g=10583\".format(quadkey), \"./images/02301023020111{}.jpeg\".format(quadkey))\n",
    "print(\"Done.\")"
   ]
  },
  {
   "cell_type": "code",
   "execution_count": 4,
   "id": "304d2f61",
   "metadata": {
    "execution": {
     "iopub.execute_input": "2021-07-25T08:01:31.317768Z",
     "iopub.status.busy": "2021-07-25T08:01:31.316266Z",
     "iopub.status.idle": "2021-07-25T08:01:31.319409Z",
     "shell.execute_reply": "2021-07-25T08:01:31.318949Z",
     "shell.execute_reply.started": "2021-07-25T07:43:33.989410Z"
    },
    "papermill": {
     "duration": 0.01786,
     "end_time": "2021-07-25T08:01:31.319541",
     "exception": false,
     "start_time": "2021-07-25T08:01:31.301681",
     "status": "completed"
    },
    "tags": []
   },
   "outputs": [],
   "source": [
    "def load_test_img(path):\n",
    "    img = tf.image.decode_jpeg(tf.io.read_file(\"./images/02301023020111\"+path+\".jpeg\"), channels=3)\n",
    "    img = tf.cast(img, tf.float32)\n",
    "    img = tf.image.resize(img, [224,224])\n",
    "    img = keras.applications.vgg16.preprocess_input(img)\n",
    "    return img"
   ]
  },
  {
   "cell_type": "code",
   "execution_count": 5,
   "id": "67c19964",
   "metadata": {
    "execution": {
     "iopub.execute_input": "2021-07-25T08:01:31.347303Z",
     "iopub.status.busy": "2021-07-25T08:01:31.346759Z",
     "iopub.status.idle": "2021-07-25T08:01:43.607016Z",
     "shell.execute_reply": "2021-07-25T08:01:43.607390Z",
     "shell.execute_reply.started": "2021-07-25T07:43:33.998222Z"
    },
    "papermill": {
     "duration": 12.279772,
     "end_time": "2021-07-25T08:01:43.607564",
     "exception": false,
     "start_time": "2021-07-25T08:01:31.327792",
     "status": "completed"
    },
    "tags": []
   },
   "outputs": [
    {
     "name": "stdout",
     "output_type": "stream",
     "text": [
      "[[1.1321260e-18 4.9006507e-11 4.2318107e-11 ... 2.6155972e-06\n",
      "  2.3000887e-04 5.6003927e-11]\n",
      " [5.7456554e-17 5.5318344e-11 1.9078798e-06 ... 7.9469073e-06\n",
      "  4.2047221e-03 1.6762829e-10]\n",
      " [9.1822734e-16 2.3114514e-10 1.4130903e-08 ... 1.4531185e-08\n",
      "  2.1764505e-01 7.7732445e-11]\n",
      " ...\n",
      " [4.3576523e-17 3.5579991e-08 3.2938117e-09 ... 8.5973821e-04\n",
      "  8.8899702e-01 3.3851906e-09]\n",
      " [6.4128640e-19 1.4623790e-05 2.8156390e-05 ... 4.4065536e-04\n",
      "  7.1828380e-02 3.8767348e-07]\n",
      " [1.8157522e-18 4.7155894e-11 1.6413388e-09 ... 3.6693893e-07\n",
      "  2.9152203e-01 6.7174849e-11]]\n"
     ]
    }
   ],
   "source": [
    "eval_ds = tf.data.Dataset.from_tensor_slices((df.path.values))\n",
    "eval_ds = eval_ds.map(load_test_img).batch(32)\n",
    "\n",
    "prediction = model.predict(eval_ds)\n",
    "print(prediction)"
   ]
  },
  {
   "cell_type": "code",
   "execution_count": 6,
   "id": "dab9f204",
   "metadata": {
    "execution": {
     "iopub.execute_input": "2021-07-25T08:01:43.633471Z",
     "iopub.status.busy": "2021-07-25T08:01:43.631573Z",
     "iopub.status.idle": "2021-07-25T08:01:43.660535Z",
     "shell.execute_reply": "2021-07-25T08:01:43.660942Z",
     "shell.execute_reply.started": "2021-07-25T07:43:37.259977Z"
    },
    "papermill": {
     "duration": 0.044809,
     "end_time": "2021-07-25T08:01:43.661057",
     "exception": false,
     "start_time": "2021-07-25T08:01:43.616248",
     "status": "completed"
    },
    "tags": []
   },
   "outputs": [
    {
     "data": {
      "text/html": [
       "<div>\n",
       "<style scoped>\n",
       "    .dataframe tbody tr th:only-of-type {\n",
       "        vertical-align: middle;\n",
       "    }\n",
       "\n",
       "    .dataframe tbody tr th {\n",
       "        vertical-align: top;\n",
       "    }\n",
       "\n",
       "    .dataframe thead th {\n",
       "        text-align: right;\n",
       "    }\n",
       "</style>\n",
       "<table border=\"1\" class=\"dataframe\">\n",
       "  <thead>\n",
       "    <tr style=\"text-align: right;\">\n",
       "      <th></th>\n",
       "      <th>path</th>\n",
       "      <th>ans</th>\n",
       "    </tr>\n",
       "  </thead>\n",
       "  <tbody>\n",
       "    <tr>\n",
       "      <th>0</th>\n",
       "      <td>00000</td>\n",
       "      <td>11</td>\n",
       "    </tr>\n",
       "    <tr>\n",
       "      <th>1</th>\n",
       "      <td>00001</td>\n",
       "      <td>17</td>\n",
       "    </tr>\n",
       "    <tr>\n",
       "      <th>2</th>\n",
       "      <td>00002</td>\n",
       "      <td>11</td>\n",
       "    </tr>\n",
       "    <tr>\n",
       "      <th>3</th>\n",
       "      <td>00003</td>\n",
       "      <td>19</td>\n",
       "    </tr>\n",
       "    <tr>\n",
       "      <th>4</th>\n",
       "      <td>00010</td>\n",
       "      <td>11</td>\n",
       "    </tr>\n",
       "  </tbody>\n",
       "</table>\n",
       "</div>"
      ],
      "text/plain": [
       "    path  ans\n",
       "0  00000   11\n",
       "1  00001   17\n",
       "2  00002   11\n",
       "3  00003   19\n",
       "4  00010   11"
      ]
     },
     "execution_count": 6,
     "metadata": {},
     "output_type": "execute_result"
    }
   ],
   "source": [
    "ans = []\n",
    "for i in range(len(prediction)):\n",
    "    ans.append(np.argmax(prediction[i]))\n",
    "df = pd.concat([df,pd.DataFrame(ans,columns=['ans'])],axis=1)\n",
    "df.to_csv('map_data.csv')\n",
    "df.head()"
   ]
  }
 ],
 "metadata": {
  "kernelspec": {
   "display_name": "Python 3",
   "language": "python",
   "name": "python3"
  },
  "language_info": {
   "codemirror_mode": {
    "name": "ipython",
    "version": 3
   },
   "file_extension": ".py",
   "mimetype": "text/x-python",
   "name": "python",
   "nbconvert_exporter": "python",
   "pygments_lexer": "ipython3",
   "version": "3.7.10"
  },
  "papermill": {
   "default_parameters": {},
   "duration": 232.664349,
   "end_time": "2021-07-25T08:01:45.923375",
   "environment_variables": {},
   "exception": null,
   "input_path": "__notebook__.ipynb",
   "output_path": "__notebook__.ipynb",
   "parameters": {},
   "start_time": "2021-07-25T07:57:53.259026",
   "version": "2.3.3"
  }
 },
 "nbformat": 4,
 "nbformat_minor": 5
}
